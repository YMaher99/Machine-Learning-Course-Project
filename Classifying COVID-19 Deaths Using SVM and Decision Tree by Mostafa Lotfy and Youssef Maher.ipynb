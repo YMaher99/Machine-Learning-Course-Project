{
 "cells": [
  {
   "cell_type": "code",
   "execution_count": 1,
   "metadata": {
    "pycharm": {
     "name": "#%%\n"
    }
   },
   "outputs": [],
   "source": [
    "import pandas as pd\n",
    "import numpy as np\n",
    "import matplotlib.pyplot as plt\n",
    "import seaborn as sns\n",
    "from sklearn.model_selection import train_test_split, GridSearchCV, RepeatedStratifiedKFold, cross_validate\n",
    "from sklearn.metrics import  recall_score,roc_auc_score, roc_curve\n",
    "from sklearn.ensemble import BaggingClassifier\n",
    "from sklearn.metrics import classification_report\n",
    "from sklearn.preprocessing import StandardScaler, OneHotEncoder\n",
    "from sklearn.pipeline import Pipeline\n",
    "from sklearn.svm import SVC\n",
    "from imblearn.over_sampling import RandomOverSampler, SMOTE, ADASYN\n",
    "from sklearn.tree import DecisionTreeClassifier\n",
    "import warnings\n",
    "import itertools\n",
    "warnings.filterwarnings('ignore')\n",
    "%matplotlib inline"
   ]
  },
  {
   "cell_type": "code",
   "execution_count": 2,
   "metadata": {
    "pycharm": {
     "name": "#%%\n"
    }
   },
   "outputs": [],
   "source": [
    "df = pd.read_csv('data.csv',index_col=0)"
   ]
  },
  {
   "cell_type": "markdown",
   "metadata": {
    "pycharm": {
     "name": "#%% md\n"
    }
   },
   "source": [
    "# Cleaning\n",
    "By inspecting the values in the different columns we noticed some irregular values especially in the gender and diff_sym_hos columns."
   ]
  },
  {
   "cell_type": "code",
   "execution_count": 3,
   "metadata": {
    "pycharm": {
     "name": "#%%\n"
    }
   },
   "outputs": [],
   "source": [
    "#Negative hours changed to positive\n",
    "for i in range(len(df)):\n",
    "    df.iloc[i, 12] = df.iloc[i, 12] * -1 if df.iloc[i, 12] < 0 else df.iloc[i, 12]\n",
    "\n",
    "#Gender value 2 changed to the most common gender\n",
    "df['gender'] = df['gender'].mask(df['gender'] == 2, 1)"
   ]
  },
  {
   "cell_type": "markdown",
   "metadata": {
    "pycharm": {
     "name": "#%% md\n"
    }
   },
   "source": [
    "# Helper Methods\n",
    "These methods will be used to perform different operations such as encoding the data. As well as splitting the dataframe to train, test, and validation sets."
   ]
  },
  {
   "cell_type": "code",
   "execution_count": 4,
   "metadata": {
    "pycharm": {
     "name": "#%%\n"
    }
   },
   "outputs": [],
   "source": [
    "# Splits the given dataframe into 70% training set, 15% validation set, 15% testing set\n",
    "def split(df):\n",
    "    x = df.drop('result', axis=1)\n",
    "    y = df['result']\n",
    "    X_train, X_test, y_train, y_test = train_test_split(x, y, test_size=0.3,shuffle=True, random_state=42, stratify=y)\n",
    "    X_validate, X_test, y_validate, y_test = train_test_split(X_test, y_test, test_size=0.5,shuffle=True, random_state=42, stratify=y_test)\n",
    "    return X_train, X_validate, X_test, y_train, y_validate, y_test"
   ]
  },
  {
   "cell_type": "code",
   "execution_count": 5,
   "metadata": {
    "pycharm": {
     "name": "#%%\n"
    }
   },
   "outputs": [],
   "source": [
    "# one hot encoding\n",
    "def encode(df, columns):\n",
    "    df_encoded = df.copy()\n",
    "    for col in columns:\n",
    "        encoding = pd.get_dummies(df[col], prefix=col)\n",
    "        df_encoded = df_encoded.join(encoding)\n",
    "        df_encoded.drop(col, axis=1, inplace=True)\n",
    "    return df_encoded\n"
   ]
  },
  {
   "cell_type": "markdown",
   "metadata": {},
   "source": [
    "This method will take the training and validation data, perform hyperparameter tuning and evaluate based on the best recall from the different models for SVM."
   ]
  },
  {
   "cell_type": "code",
   "execution_count": 6,
   "metadata": {
    "pycharm": {
     "name": "#%%\n"
    }
   },
   "outputs": [],
   "source": [
    "def svm_validate(X_train, y_train, X_validate, y_validate):\n",
    "    dic = {'clf':[], 'recall':[]}\n",
    "    # Regularization parameter. The strength of the regularization \n",
    "    # is inversely proportional to C\n",
    "    c_values = [0.1, 1, 10, 100, 1000]\n",
    "    \n",
    "    #Kernel coefficient for ‘rbf’\n",
    "    gamma_values = [1, 0.1, 0.01, 0.001, 0.0001]\n",
    "    \n",
    "    #Degree of the polynomial kernel function\n",
    "    degrees = np.arange(1, 11, 1)\n",
    "\n",
    "    parameters = list(itertools.product(c_values, gamma_values, degrees))\n",
    "    for c, gamma, degree in parameters:\n",
    "        \n",
    "        #Perform scaling on the data then fit the model\n",
    "        rbf_kernel_svm_clf = Pipeline([\n",
    "            (\"scaler\", StandardScaler()),\n",
    "            (\"svm_clf\", SVC(C=c, gamma=gamma, degree=degree, random_state= 2, probability=True))\n",
    "        ])\n",
    "        rbf_kernel_svm_clf.fit(X_train, y_train)\n",
    "        y_pred = rbf_kernel_svm_clf.predict(X_validate)\n",
    "        recall = recall_score(y_validate, y_pred)\n",
    "        dic['clf'].append(rbf_kernel_svm_clf)\n",
    "        dic['recall'].append(recall)\n",
    "    df_scores = pd.DataFrame(dic)\n",
    "    return df_scores.iloc[df_scores['recall'].idxmax(), 0]"
   ]
  },
  {
   "cell_type": "markdown",
   "metadata": {},
   "source": [
    "This method will take the training and validation data, perform hyperparameter tuning and evaluate based on the best recall from the different models for DT. More hyperparameters were tested (such as max_depth) but they resulted in worse metrics thus they were removed."
   ]
  },
  {
   "cell_type": "code",
   "execution_count": 7,
   "metadata": {},
   "outputs": [],
   "source": [
    "def DT_validate(X_train, y_train, X_validate, y_validate):\n",
    "    dic = {'clf':[], 'recall':[]}\n",
    "    \n",
    "    # The function to measure the quality of a split.\n",
    "    criterion = ['entropy','gini']\n",
    "    \n",
    "    # The strategy used to choose the split at each node.\n",
    "    splitter = ['best','random']\n",
    "    \n",
    "    # Weights associated with classes\n",
    "    class_weight = ['balanced',None]\n",
    "    \n",
    "    # The number of features to consider when looking for the best split\n",
    "    max_features = [i for i in range(1,X_train.shape[1])]\n",
    "    \n",
    "    parameters = list(itertools.product(criterion, splitter, class_weight, max_features))\n",
    "    for crit, splitter, weight, max_features in parameters:\n",
    "        DT = DecisionTreeClassifier(criterion = crit, splitter=splitter, class_weight=weight, max_features=max_features, random_state=2)\n",
    "        DT.fit(X_train, y_train)\n",
    "        y_pred = DT.predict(X_validate)\n",
    "        recall = recall_score(y_validate, y_pred)\n",
    "        dic['clf'].append(DT)\n",
    "        dic['recall'].append(recall)\n",
    "    df_scores = pd.DataFrame(dic)\n",
    "    return df_scores.iloc[df_scores['recall'].idxmax(), 0]\n",
    "    "
   ]
  },
  {
   "cell_type": "code",
   "execution_count": 8,
   "metadata": {},
   "outputs": [],
   "source": [
    "def draw_roc_curve(clf,X_test,y_test):\n",
    "    y_predict =  clf.predict_proba(X_test)\n",
    "    y_pred_proba = y_predict[::,1]\n",
    "    fpr, tpr, _ = roc_curve(y_test,  y_pred_proba)\n",
    "    roc_auc = roc_auc_score(y_test, y_pred_proba)\n",
    "    plt.plot(fpr, tpr, 'b', label = 'AUC = %0.2f' % roc_auc)\n",
    "    plt.legend(loc = 'lower right')\n",
    "    plt.plot([0, 1], [0, 1],'r--')\n",
    "    plt.ylabel('True Positive Rate')\n",
    "    plt.xlabel('False Positive Rate')\n",
    "    plt.show()"
   ]
  },
  {
   "cell_type": "markdown",
   "metadata": {},
   "source": [
    "# SVM"
   ]
  },
  {
   "cell_type": "markdown",
   "metadata": {
    "pycharm": {
     "name": "#%% md\n"
    }
   },
   "source": [
    "## Without Encoding\n",
    "First we attempt to fit the model without any changes to act as a baseline."
   ]
  },
  {
   "cell_type": "code",
   "execution_count": 9,
   "metadata": {
    "pycharm": {
     "name": "#%%\n"
    }
   },
   "outputs": [
    {
     "name": "stdout",
     "output_type": "stream",
     "text": [
      "Pipeline(steps=[('scaler', StandardScaler()),\n",
      "                ('svm_clf',\n",
      "                 SVC(C=10, degree=1, gamma=0.1, probability=True,\n",
      "                     random_state=2))])\n",
      "              precision    recall  f1-score   support\n",
      "\n",
      "           0       0.97      0.97      0.97       114\n",
      "           1       0.81      0.81      0.81        16\n",
      "\n",
      "    accuracy                           0.95       130\n",
      "   macro avg       0.89      0.89      0.89       130\n",
      "weighted avg       0.95      0.95      0.95       130\n",
      "\n",
      "ROC_AUC 0.8930921052631579\n"
     ]
    },
    {
     "data": {
      "image/png": "[encoded data removed]",
      "text/plain": [
       "<Figure size 432x288 with 1 Axes>"
      ]
     },
     "metadata": {
      "needs_background": "light"
     },
     "output_type": "display_data"
    }
   ],
   "source": [
    "X_train, X_validate, X_test, y_train, y_validate, y_test = split(df)\n",
    "best_svm = svm_validate(X_train, y_train, X_validate, y_validate)\n",
    "y_predict = best_svm.predict(X_test)\n",
    "print(best_svm)\n",
    "print(classification_report(y_test, y_predict))\n",
    "print(f'ROC_AUC', roc_auc_score(y_test, y_predict))\n",
    "draw_roc_curve(best_svm,X_test,y_test)"
   ]
  },
  {
   "cell_type": "markdown",
   "metadata": {
    "pycharm": {
     "name": "#%% md\n"
    }
   },
   "source": [
    "## Encoding\n",
    "We then encode some of the categorical data in the dataset to improve the metrics."
   ]
  },
  {
   "cell_type": "code",
   "execution_count": 10,
   "metadata": {
    "pycharm": {
     "name": "#%%\n"
    }
   },
   "outputs": [
    {
     "name": "stdout",
     "output_type": "stream",
     "text": [
      "Pipeline(steps=[('scaler', StandardScaler()),\n",
      "                ('svm_clf',\n",
      "                 SVC(C=100, degree=1, gamma=0.001, probability=True,\n",
      "                     random_state=2))])\n",
      "              precision    recall  f1-score   support\n",
      "\n",
      "           0       0.97      1.00      0.98       114\n",
      "           1       1.00      0.75      0.86        16\n",
      "\n",
      "    accuracy                           0.97       130\n",
      "   macro avg       0.98      0.88      0.92       130\n",
      "weighted avg       0.97      0.97      0.97       130\n",
      "\n",
      "ROC_AUC 0.875\n"
     ]
    },
    {
     "data": {
      "image/png": "[encoded data removed]",
      "text/plain": [
       "<Figure size 432x288 with 1 Axes>"
      ]
     },
     "metadata": {
      "needs_background": "light"
     },
     "output_type": "display_data"
    }
   ],
   "source": [
    "cols = ['location', 'country', 'symptom1', 'symptom2', 'symptom3', 'symptom4', 'symptom5', 'symptom6']\n",
    "df_encoded = encode(df, cols)\n",
    "X_train, X_validate, X_test, y_train, y_validate, y_test = split(df_encoded)\n",
    "best_svm = svm_validate(X_train, y_train, X_validate, y_validate)\n",
    "y_predict = best_svm.predict(X_test)\n",
    "print(best_svm)\n",
    "print(classification_report(y_test, y_predict))\n",
    "print(f'ROC_AUC', roc_auc_score(y_test, y_predict))\n",
    "draw_roc_curve(best_svm,X_test,y_test)"
   ]
  },
  {
   "cell_type": "markdown",
   "metadata": {
    "pycharm": {
     "name": "#%% md\n"
    }
   },
   "source": [
    "## Feature selection\n",
    "Here we experimentally select features. After some experiments this is the best result. Some features were removed based on their low correlation with the data while others were removed after experimentally testing that their removal improved recall."
   ]
  },
  {
   "cell_type": "code",
   "execution_count": 11,
   "metadata": {
    "pycharm": {
     "name": "#%%\n"
    }
   },
   "outputs": [
    {
     "name": "stdout",
     "output_type": "stream",
     "text": [
      "Pipeline(steps=[('scaler', StandardScaler()),\n",
      "                ('svm_clf',\n",
      "                 SVC(C=100, degree=1, gamma=0.001, probability=True,\n",
      "                     random_state=2))])\n",
      "              precision    recall  f1-score   support\n",
      "\n",
      "           0       0.98      1.00      0.99       114\n",
      "           1       1.00      0.88      0.93        16\n",
      "\n",
      "    accuracy                           0.98       130\n",
      "   macro avg       0.99      0.94      0.96       130\n",
      "weighted avg       0.98      0.98      0.98       130\n",
      "\n",
      "ROC_AUC 0.9375\n"
     ]
    },
    {
     "data": {
      "image/png": "[encoded data removed]",
      "text/plain": [
       "<Figure size 432x288 with 1 Axes>"
      ]
     },
     "metadata": {
      "needs_background": "light"
     },
     "output_type": "display_data"
    }
   ],
   "source": [
    "dropped_cols = ['symptom6', 'symptom5', 'symptom4','symptom2']\n",
    "encoded_cols = ['country','location', 'symptom1', 'symptom3']\n",
    "df_encoded = encode(df.drop(dropped_cols, axis=1), encoded_cols)\n",
    "X_train, X_validate, X_test, y_train, y_validate, y_test = split(df_encoded)\n",
    "best_svm = svm_validate(X_train, y_train, X_validate, y_validate)\n",
    "y_predict = best_svm.predict(X_test)\n",
    "print(best_svm)\n",
    "print(classification_report(y_test, y_predict))\n",
    "print(f'ROC_AUC', roc_auc_score(y_test, y_predict))\n",
    "draw_roc_curve(best_svm,X_test,y_test)"
   ]
  },
  {
   "cell_type": "markdown",
   "metadata": {
    "pycharm": {
     "name": "#%% md\n"
    }
   },
   "source": [
    "## Bagging with Validation\n",
    "In this section, we utilise a bagging classifier to attempt to improve the recall."
   ]
  },
  {
   "cell_type": "code",
   "execution_count": 12,
   "metadata": {
    "pycharm": {
     "name": "#%%\n"
    }
   },
   "outputs": [],
   "source": [
    "dic = {'clf':[], 'recall':[]}\n",
    "c_values = [0.1, 1, 10, 100, 1000] \n",
    "gamma_values = [1, 0.1, 0.01, 0.001, 0.0001]\n",
    "degrees = np.arange(1, 11, 1)\n",
    "\n",
    "parameters = list(itertools.product(c_values, gamma_values, degrees))\n",
    "for c, gamma, degree in parameters:\n",
    "    rbf_kernel_svm_clf = Pipeline([\n",
    "        (\"scaler\", StandardScaler()),\n",
    "        (\"svm_clf\", SVC(C=c, gamma=gamma, degree=degree, random_state = 2, probability=True))\n",
    "    ])\n",
    "    bagging_clf = BaggingClassifier(base_estimator=rbf_kernel_svm_clf, n_estimators=10, random_state=2)\n",
    "    bagging_clf.fit(X_train, y_train)\n",
    "    y_pred = bagging_clf.predict(X_validate)\n",
    "    recall = recall_score(y_validate, y_pred)\n",
    "    dic['clf'].append(bagging_clf)\n",
    "    dic['recall'].append(recall)\n",
    "df_scores = pd.DataFrame(dic)"
   ]
  },
  {
   "cell_type": "code",
   "execution_count": 13,
   "metadata": {
    "pycharm": {
     "name": "#%%\n"
    }
   },
   "outputs": [
    {
     "name": "stdout",
     "output_type": "stream",
     "text": [
      "BaggingClassifier(base_estimator=Pipeline(steps=[('scaler', StandardScaler()),\n",
      "                                                 ('svm_clf',\n",
      "                                                  SVC(C=10, degree=1,\n",
      "                                                      gamma=0.01,\n",
      "                                                      probability=True,\n",
      "                                                      random_state=2))]),\n",
      "                  random_state=2)\n",
      "              precision    recall  f1-score   support\n",
      "\n",
      "           0       0.95      1.00      0.97       114\n",
      "           1       1.00      0.62      0.77        16\n",
      "\n",
      "    accuracy                           0.95       130\n",
      "   macro avg       0.97      0.81      0.87       130\n",
      "weighted avg       0.96      0.95      0.95       130\n",
      "\n",
      "ROC_AUC 0.8125\n"
     ]
    },
    {
     "data": {
      "image/png": "[encoded data removed]",
      "text/plain": [
       "<Figure size 432x288 with 1 Axes>"
      ]
     },
     "metadata": {
      "needs_background": "light"
     },
     "output_type": "display_data"
    }
   ],
   "source": [
    "bagging_clf = df_scores.iloc[df_scores['recall'].idxmax(), 0]\n",
    "y_predict = bagging_clf.predict(X_test)\n",
    "print(bagging_clf)\n",
    "print(classification_report(y_test, y_predict))\n",
    "print(f'ROC_AUC', roc_auc_score(y_test, y_predict))\n",
    "draw_roc_curve(bagging_clf,X_test,y_test)"
   ]
  },
  {
   "cell_type": "markdown",
   "metadata": {
    "pycharm": {
     "name": "#%% md\n"
    }
   },
   "source": [
    "## Over sampling\n",
    "Since the data is imbalanced for the '1' class we utilise a random oversampler to balance the data by duplicating existing data from the '1' class."
   ]
  },
  {
   "cell_type": "code",
   "execution_count": 14,
   "metadata": {
    "pycharm": {
     "name": "#%%\n"
    },
    "scrolled": false
   },
   "outputs": [
    {
     "name": "stdout",
     "output_type": "stream",
     "text": [
      "Pipeline(steps=[('scaler', StandardScaler()),\n",
      "                ('svm_clf',\n",
      "                 SVC(C=0.1, degree=1, gamma=0.1, probability=True,\n",
      "                     random_state=2))])\n",
      "              precision    recall  f1-score   support\n",
      "\n",
      "           0       0.99      0.86      0.92       114\n",
      "           1       0.48      0.94      0.64        16\n",
      "\n",
      "    accuracy                           0.87       130\n",
      "   macro avg       0.74      0.90      0.78       130\n",
      "weighted avg       0.93      0.87      0.89       130\n",
      "\n",
      "ROC_AUC 0.8985745614035088\n"
     ]
    },
    {
     "data": {
      "image/png": "[encoded data removed]",
      "text/plain": [
       "<Figure size 432x288 with 1 Axes>"
      ]
     },
     "metadata": {
      "needs_background": "light"
     },
     "output_type": "display_data"
    }
   ],
   "source": [
    "dropped_cols = ['symptom6', 'symptom5', 'symptom4', 'symptom3', 'symptom2']\n",
    "df_dropped = df.drop(dropped_cols, axis=1)\n",
    "ros = RandomOverSampler(random_state=42)\n",
    "X_train, X_validate, X_test, y_train, y_validate, y_test = split(df_dropped)\n",
    "X_train, y_train= ros.fit_resample(X=X_train, y=y_train)\n",
    "best_svm = svm_validate(X_train, y_train, X_validate, y_validate)\n",
    "y_predict = best_svm.predict(X_test)\n",
    "print(best_svm)\n",
    "print(classification_report(y_test, y_predict))\n",
    "print(f'ROC_AUC', roc_auc_score(y_test, y_predict))\n",
    "draw_roc_curve(best_svm,X_test,y_test)"
   ]
  },
  {
   "cell_type": "markdown",
   "metadata": {},
   "source": [
    "## Using a Bagging Classifier on Oversampled Data"
   ]
  },
  {
   "cell_type": "code",
   "execution_count": 15,
   "metadata": {},
   "outputs": [
    {
     "name": "stdout",
     "output_type": "stream",
     "text": [
      "BaggingClassifier(base_estimator=Pipeline(steps=[('scaler', StandardScaler()),\n",
      "                                                 ('svm_clf',\n",
      "                                                  SVC(C=0.1, degree=1,\n",
      "                                                      gamma=0.1,\n",
      "                                                      random_state=2))]),\n",
      "                  random_state=2)\n",
      "              precision    recall  f1-score   support\n",
      "\n",
      "           0       0.99      0.88      0.93       114\n",
      "           1       0.52      0.94      0.67        16\n",
      "\n",
      "    accuracy                           0.88       130\n",
      "   macro avg       0.75      0.91      0.80       130\n",
      "weighted avg       0.93      0.88      0.90       130\n",
      "\n",
      "ROC_AUC 0.9073464912280702\n"
     ]
    },
    {
     "data": {
      "image/png": "[encoded data removed]",
      "text/plain": [
       "<Figure size 432x288 with 1 Axes>"
      ]
     },
     "metadata": {
      "needs_background": "light"
     },
     "output_type": "display_data"
    }
   ],
   "source": [
    "dropped_cols = ['symptom6', 'symptom5', 'symptom4', 'symptom3', 'symptom2']\n",
    "df_dropped = df.drop(dropped_cols, axis=1)\n",
    "ros = RandomOverSampler(random_state=42)\n",
    "X_train, X_validate, X_test, y_train, y_validate, y_test = split(df_dropped)\n",
    "X_train, y_train= ros.fit_resample(X=X_train, y=y_train)\n",
    "dic = {'clf':[], 'recall':[]}\n",
    "c_values = [0.1, 1, 10, 100, 1000] \n",
    "gamma_values = [1, 0.1, 0.01, 0.001, 0.0001]\n",
    "degrees = np.arange(1, 11, 1)\n",
    "\n",
    "parameters = list(itertools.product(c_values, gamma_values, degrees))\n",
    "for c, gamma, degree in parameters:\n",
    "    rbf_kernel_svm_clf = Pipeline([\n",
    "        (\"scaler\", StandardScaler()),\n",
    "        (\"svm_clf\", SVC(C=c, gamma=gamma, degree=degree, random_state = 2))\n",
    "    ])\n",
    "    bagging_clf = BaggingClassifier(base_estimator=rbf_kernel_svm_clf, n_estimators=10, random_state=2)\n",
    "    bagging_clf.fit(X_train, y_train)\n",
    "    y_pred = bagging_clf.predict(X_validate)\n",
    "    recall = recall_score(y_validate, y_pred)\n",
    "    dic['clf'].append(bagging_clf)\n",
    "    dic['recall'].append(recall)\n",
    "df_scores = pd.DataFrame(dic)\n",
    "bagging_clf = df_scores.iloc[df_scores['recall'].idxmax(), 0]\n",
    "y_predict = bagging_clf.predict(X_test)\n",
    "print(bagging_clf)\n",
    "print(classification_report(y_test, y_predict))\n",
    "print(f'ROC_AUC', roc_auc_score(y_test, y_predict))\n",
    "draw_roc_curve(bagging_clf,X_test,y_test)"
   ]
  },
  {
   "cell_type": "markdown",
   "metadata": {},
   "source": [
    "## Final Model\n",
    "We recommend using the model found in the \"Feature Selection\" section. As it leads to the highest values of recall and a good balance between recall and precsion.\n",
    "\n",
    "### Model hyperparameters\n",
    "\n",
    "Pipeline(steps=[('scaler', StandardScaler()),\n",
    "                ('svm_clf',\n",
    "                 SVC(C=100, degree=1, gamma=0.001, probability=True,\n",
    "                     random_state=2))])\n",
    "                     \n",
    "### Classification report\n",
    "\n",
    "              precision    recall  f1-score\n",
    "\n",
    "           0       0.98      1.00      0.99 \n",
    "           1       1.00      0.88      0.93  \n",
    "\n",
    "    accuracy                           0.98\n",
    "    ROC_AUC                            0.94"
   ]
  },
  {
   "cell_type": "markdown",
   "metadata": {},
   "source": [
    "# Decision Tree"
   ]
  },
  {
   "cell_type": "code",
   "execution_count": 16,
   "metadata": {},
   "outputs": [],
   "source": [
    "df = pd.read_csv('data.csv',index_col=0)"
   ]
  },
  {
   "cell_type": "markdown",
   "metadata": {},
   "source": [
    "## Without Encoding\n",
    "First we attempt to fit the model without any changes to act as a baseline."
   ]
  },
  {
   "cell_type": "code",
   "execution_count": 17,
   "metadata": {},
   "outputs": [
    {
     "name": "stdout",
     "output_type": "stream",
     "text": [
      "DecisionTreeClassifier(class_weight='balanced', criterion='entropy',\n",
      "                       max_features=6, random_state=2)\n",
      "              precision    recall  f1-score   support\n",
      "\n",
      "           0       0.98      0.97      0.98       114\n",
      "           1       0.82      0.88      0.85        16\n",
      "\n",
      "    accuracy                           0.96       130\n",
      "   macro avg       0.90      0.92      0.91       130\n",
      "weighted avg       0.96      0.96      0.96       130\n",
      "\n",
      "ROC_AUC 0.924342105263158\n"
     ]
    },
    {
     "data": {
      "image/png": "[encoded data removed]",
      "text/plain": [
       "<Figure size 432x288 with 1 Axes>"
      ]
     },
     "metadata": {
      "needs_background": "light"
     },
     "output_type": "display_data"
    }
   ],
   "source": [
    "X_train, X_validate, X_test, y_train, y_validate, y_test = split(df)\n",
    "best_DT = DT_validate(X_train, y_train, X_validate, y_validate)\n",
    "y_predict = best_DT.predict(X_test)\n",
    "print(best_DT)\n",
    "print(classification_report(y_test, y_predict))\n",
    "print(f'ROC_AUC', roc_auc_score(y_test, y_predict))\n",
    "draw_roc_curve(best_DT,X_test,y_test)"
   ]
  },
  {
   "cell_type": "markdown",
   "metadata": {},
   "source": [
    "## Encoding\n",
    "We then encode some of the categorical data in the dataset to attempt to improve the metrics."
   ]
  },
  {
   "cell_type": "code",
   "execution_count": 18,
   "metadata": {
    "scrolled": false
   },
   "outputs": [
    {
     "name": "stdout",
     "output_type": "stream",
     "text": [
      "DecisionTreeClassifier(class_weight='balanced', criterion='entropy',\n",
      "                       max_features=28, random_state=2)\n",
      "              precision    recall  f1-score   support\n",
      "\n",
      "           0       0.96      0.95      0.95       114\n",
      "           1       0.65      0.69      0.67        16\n",
      "\n",
      "    accuracy                           0.92       130\n",
      "   macro avg       0.80      0.82      0.81       130\n",
      "weighted avg       0.92      0.92      0.92       130\n",
      "\n",
      "ROC_AUC 0.8174342105263158\n"
     ]
    },
    {
     "data": {
      "image/png": "[encoded data removed]",
      "text/plain": [
       "<Figure size 432x288 with 1 Axes>"
      ]
     },
     "metadata": {
      "needs_background": "light"
     },
     "output_type": "display_data"
    }
   ],
   "source": [
    "cols = ['location', 'country', 'symptom1', 'symptom2', 'symptom3', 'symptom4', 'symptom5', 'symptom6']\n",
    "df_encoded = encode(df, cols)\n",
    "X_train, X_validate, X_test, y_train, y_validate, y_test = split(df_encoded)\n",
    "best_DT = DT_validate(X_train, y_train, X_validate, y_validate)\n",
    "y_predict = best_DT.predict(X_test)\n",
    "print(best_DT)\n",
    "print(classification_report(y_test, y_predict))\n",
    "print(f'ROC_AUC', roc_auc_score(y_test, y_predict))\n",
    "draw_roc_curve(best_DT,X_test,y_test)"
   ]
  },
  {
   "cell_type": "markdown",
   "metadata": {},
   "source": [
    "Performing one-hot encoding on the data decreases the information gain of each column thus worsening the performance metrics of the model. Thus we use the encoding that was given in the dataset."
   ]
  },
  {
   "cell_type": "markdown",
   "metadata": {},
   "source": [
    "## Feature Selection\n",
    "Here we experimentally select features. After some experiments this is the best result. Some features were removed based on their low correlation with the data while others were removed after experimentally testing that their removal improved recall."
   ]
  },
  {
   "cell_type": "code",
   "execution_count": 19,
   "metadata": {},
   "outputs": [
    {
     "name": "stdout",
     "output_type": "stream",
     "text": [
      "DecisionTreeClassifier(class_weight='balanced', criterion='entropy',\n",
      "                       max_features=4, random_state=2)\n",
      "              precision    recall  f1-score   support\n",
      "\n",
      "           0       0.97      0.97      0.97       114\n",
      "           1       0.81      0.81      0.81        16\n",
      "\n",
      "    accuracy                           0.95       130\n",
      "   macro avg       0.89      0.89      0.89       130\n",
      "weighted avg       0.95      0.95      0.95       130\n",
      "\n",
      "ROC_AUC 0.8930921052631579\n"
     ]
    },
    {
     "data": {
      "image/png": "[encoded data removed]",
      "text/plain": [
       "<Figure size 432x288 with 1 Axes>"
      ]
     },
     "metadata": {
      "needs_background": "light"
     },
     "output_type": "display_data"
    }
   ],
   "source": [
    "dropped_cols = ['symptom6', 'symptom5', 'symptom4']\n",
    "df_dropped = df.drop(dropped_cols, axis=1)\n",
    "X_train, X_validate, X_test, y_train, y_validate, y_test = split(df_dropped)\n",
    "best_DT = DT_validate(X_train, y_train, X_validate, y_validate)\n",
    "y_predict = best_DT.predict(X_test)\n",
    "print(best_DT)\n",
    "print(classification_report(y_test, y_predict))\n",
    "print(f'ROC_AUC', roc_auc_score(y_test, y_predict))\n",
    "draw_roc_curve(best_DT,X_test,y_test)"
   ]
  },
  {
   "cell_type": "markdown",
   "metadata": {},
   "source": [
    "## Bagging with Validation\n",
    "In this section, we utilise a bagging classifier to attempt to improve the recall."
   ]
  },
  {
   "cell_type": "code",
   "execution_count": 20,
   "metadata": {},
   "outputs": [],
   "source": [
    "dic = {'clf':[], 'recall':[]}\n",
    "criterion = ['entropy','gini']\n",
    "splitter = ['best','random']\n",
    "class_weight = ['balanced', None]\n",
    "max_features = [i for i in range(1,X_train.shape[1])]\n",
    "parameters = list(itertools.product(criterion, splitter, class_weight,max_features))\n",
    "for crit, splitter, weight, max_features in parameters:\n",
    "    DT = DecisionTreeClassifier(criterion = crit, splitter=splitter, class_weight=weight, random_state = 2, max_features = max_features)\n",
    "    bagging_clf = BaggingClassifier(base_estimator= DT, random_state=2)\n",
    "    bagging_clf.fit(X_train, y_train)\n",
    "    y_pred = bagging_clf.predict(X_validate)\n",
    "    recall = recall_score(y_validate, y_pred)\n",
    "    dic['clf'].append(bagging_clf)\n",
    "    dic['recall'].append(recall)\n",
    "df_scores = pd.DataFrame(dic)\n"
   ]
  },
  {
   "cell_type": "code",
   "execution_count": 21,
   "metadata": {
    "scrolled": false
   },
   "outputs": [
    {
     "name": "stdout",
     "output_type": "stream",
     "text": [
      "BaggingClassifier(base_estimator=DecisionTreeClassifier(class_weight='balanced',\n",
      "                                                        criterion='entropy',\n",
      "                                                        max_features=7,\n",
      "                                                        random_state=2),\n",
      "                  random_state=2)\n",
      "              precision    recall  f1-score   support\n",
      "\n",
      "           0       0.97      0.99      0.98       114\n",
      "           1       0.93      0.81      0.87        16\n",
      "\n",
      "    accuracy                           0.97       130\n",
      "   macro avg       0.95      0.90      0.92       130\n",
      "weighted avg       0.97      0.97      0.97       130\n",
      "\n",
      "ROC_AUC 0.9018640350877193\n"
     ]
    },
    {
     "data": {
      "image/png": "[encoded data removed]",
      "text/plain": [
       "<Figure size 432x288 with 1 Axes>"
      ]
     },
     "metadata": {
      "needs_background": "light"
     },
     "output_type": "display_data"
    }
   ],
   "source": [
    "bagging_clf = df_scores.iloc[df_scores['recall'].idxmax(), 0]\n",
    "y_predict = bagging_clf.predict(X_test)\n",
    "print(bagging_clf)\n",
    "print(classification_report(y_test, y_predict))\n",
    "print(f'ROC_AUC', roc_auc_score(y_test, y_predict))\n",
    "draw_roc_curve(bagging_clf,X_test,y_test)"
   ]
  },
  {
   "cell_type": "markdown",
   "metadata": {},
   "source": [
    "## Oversampling\n",
    "Since the data is imbalanced for the '1' class we utilise a random oversampler to balance the data by duplicating existing data from the '1' class."
   ]
  },
  {
   "cell_type": "code",
   "execution_count": 22,
   "metadata": {
    "scrolled": false
   },
   "outputs": [
    {
     "name": "stdout",
     "output_type": "stream",
     "text": [
      "DecisionTreeClassifier(class_weight='balanced', criterion='entropy',\n",
      "                       max_features=2, random_state=2)\n",
      "              precision    recall  f1-score   support\n",
      "\n",
      "           0       0.97      0.97      0.97       114\n",
      "           1       0.81      0.81      0.81        16\n",
      "\n",
      "    accuracy                           0.95       130\n",
      "   macro avg       0.89      0.89      0.89       130\n",
      "weighted avg       0.95      0.95      0.95       130\n",
      "\n",
      "ROC_AUC 0.8930921052631579\n"
     ]
    },
    {
     "data": {
      "image/png": "[encoded data removed]",
      "text/plain": [
       "<Figure size 432x288 with 1 Axes>"
      ]
     },
     "metadata": {
      "needs_background": "light"
     },
     "output_type": "display_data"
    }
   ],
   "source": [
    "dropped_cols = ['symptom6', 'symptom5', 'symptom4', 'symptom3', 'symptom2']\n",
    "df_dropped = df.drop(dropped_cols, axis=1)\n",
    "ros = RandomOverSampler(random_state=42)\n",
    "X_train, X_validate, X_test, y_train, y_validate, y_test = split(df_dropped)\n",
    "X_train, y_train= ros.fit_resample(X=X_train, y=y_train)\n",
    "best_DT = DT_validate(X_train, y_train, X_validate, y_validate)\n",
    "y_predict = best_DT.predict(X_test)\n",
    "\n",
    "print(best_DT)\n",
    "print(classification_report(y_test, y_predict))\n",
    "print(f'ROC_AUC', roc_auc_score(y_test, y_predict))\n",
    "draw_roc_curve(best_DT,X_test,y_test)\n"
   ]
  },
  {
   "cell_type": "markdown",
   "metadata": {},
   "source": [
    "## Using a Bagging Classifier on Oversampled Data"
   ]
  },
  {
   "cell_type": "code",
   "execution_count": 23,
   "metadata": {},
   "outputs": [
    {
     "name": "stdout",
     "output_type": "stream",
     "text": [
      "BaggingClassifier(base_estimator=DecisionTreeClassifier(class_weight='balanced',\n",
      "                                                        criterion='entropy',\n",
      "                                                        max_features=2,\n",
      "                                                        random_state=2),\n",
      "                  random_state=2)\n",
      "              precision    recall  f1-score   support\n",
      "\n",
      "           0       0.98      0.99      0.99       114\n",
      "           1       0.93      0.88      0.90        16\n",
      "\n",
      "    accuracy                           0.98       130\n",
      "   macro avg       0.96      0.93      0.95       130\n",
      "weighted avg       0.98      0.98      0.98       130\n",
      "\n",
      "ROC_AUC 0.9331140350877193\n"
     ]
    },
    {
     "data": {
      "image/png": "[encoded data removed]",
      "text/plain": [
       "<Figure size 432x288 with 1 Axes>"
      ]
     },
     "metadata": {
      "needs_background": "light"
     },
     "output_type": "display_data"
    }
   ],
   "source": [
    "dropped_cols = ['symptom6', 'symptom5', 'symptom4', 'symptom3', 'symptom2']\n",
    "encoded_cols = []\n",
    "df_encoded = encode(df.drop(dropped_cols, axis=1), encoded_cols)\n",
    "\n",
    "ros = RandomOverSampler(random_state=42)\n",
    "X_train, X_validate, X_test, y_train, y_validate, y_test = split(df_encoded)\n",
    "X_train, y_train= ros.fit_resample(X=X_train, y=y_train)\n",
    "\n",
    "dic = {'clf':[], 'recall':[]}\n",
    "criterion = ['entropy','gini']\n",
    "splitter = ['best','random']\n",
    "class_weight = ['balanced', None]\n",
    "max_features = [i for i in range(1,X_train.shape[1])]\n",
    "\n",
    "parameters = list(itertools.product(criterion, splitter, class_weight,max_features))\n",
    "\n",
    "for crit, splitter, weight, max_features in parameters:\n",
    "    DT = DecisionTreeClassifier(criterion = crit, splitter=splitter, class_weight=weight, random_state = 2, max_features = max_features)\n",
    "    bagging_clf = BaggingClassifier(base_estimator= DT, random_state=2)\n",
    "    bagging_clf.fit(X_train, y_train)\n",
    "    y_pred = bagging_clf.predict(X_validate)\n",
    "    recall = recall_score(y_validate, y_pred)\n",
    "    dic['clf'].append(bagging_clf)\n",
    "    dic['recall'].append(recall)\n",
    "\n",
    "df_scores = pd.DataFrame(dic)\n",
    "bagging_clf = df_scores.iloc[df_scores['recall'].idxmax(), 0]\n",
    "\n",
    "y_predict = bagging_clf.predict(X_test)\n",
    "print(bagging_clf)\n",
    "print(classification_report(y_test, y_predict))\n",
    "print(f'ROC_AUC', roc_auc_score(y_test, y_predict))\n",
    "draw_roc_curve(bagging_clf,X_test,y_test)"
   ]
  },
  {
   "cell_type": "markdown",
   "metadata": {},
   "source": [
    "## Final Model\n",
    "\n",
    "We recommend using the model found in the \"Using a Bagging Classifier on Oversampled Data\" section. As it leads to the highest values of recall and a good balance between recall and precsion.\n",
    "\n",
    "### Model hyperparameters\n",
    "\n",
    "BaggingClassifier(base_estimator=DecisionTreeClassifier(class_weight='balanced',\n",
    "                                                        criterion='entropy',\n",
    "                                                        max_features=2,\n",
    "                                                        random_state=2), random_state=2)\n",
    "                     \n",
    "### Classification report\n",
    "\n",
    "\n",
    "\n",
    "              precision    recall  f1-score   \n",
    "\n",
    "           0       0.98      0.99      0.99      \n",
    "           1       0.93      0.88      0.90        \n",
    "\n",
    "    accuracy                           0.98       \n",
    "    roc_auc                            0.93\n",
    "\n",
    "\n"
   ]
  },
  {
   "cell_type": "markdown",
   "metadata": {},
   "source": [
    "## Model Comparison"
   ]
  },
  {
   "cell_type": "code",
   "execution_count": 31,
   "metadata": {},
   "outputs": [
    {
     "data": {
      "text/html": [
       "<div>\n",
       "<style scoped>\n",
       "    .dataframe tbody tr th:only-of-type {\n",
       "        vertical-align: middle;\n",
       "    }\n",
       "\n",
       "    .dataframe tbody tr th {\n",
       "        vertical-align: top;\n",
       "    }\n",
       "\n",
       "    .dataframe thead th {\n",
       "        text-align: right;\n",
       "    }\n",
       "</style>\n",
       "<table border=\"1\" class=\"dataframe\">\n",
       "  <thead>\n",
       "    <tr style=\"text-align: right;\">\n",
       "      <th></th>\n",
       "      <th>Model</th>\n",
       "      <th>class</th>\n",
       "      <th>Recall</th>\n",
       "      <th>Precision</th>\n",
       "      <th>f1-score</th>\n",
       "      <th>roc_auc</th>\n",
       "    </tr>\n",
       "  </thead>\n",
       "  <tbody>\n",
       "    <tr>\n",
       "      <th>0</th>\n",
       "      <td>SVM</td>\n",
       "      <td>one</td>\n",
       "      <td>0.88</td>\n",
       "      <td>1.00</td>\n",
       "      <td>0.93</td>\n",
       "      <td>0.94</td>\n",
       "    </tr>\n",
       "    <tr>\n",
       "      <th>1</th>\n",
       "      <td>SVM</td>\n",
       "      <td>zero</td>\n",
       "      <td>1.00</td>\n",
       "      <td>0.98</td>\n",
       "      <td>0.99</td>\n",
       "      <td>0.94</td>\n",
       "    </tr>\n",
       "    <tr>\n",
       "      <th>2</th>\n",
       "      <td>Decision Tree</td>\n",
       "      <td>one</td>\n",
       "      <td>0.88</td>\n",
       "      <td>0.93</td>\n",
       "      <td>0.90</td>\n",
       "      <td>0.93</td>\n",
       "    </tr>\n",
       "    <tr>\n",
       "      <th>3</th>\n",
       "      <td>Decision Tree</td>\n",
       "      <td>zero</td>\n",
       "      <td>0.99</td>\n",
       "      <td>0.98</td>\n",
       "      <td>0.99</td>\n",
       "      <td>0.93</td>\n",
       "    </tr>\n",
       "  </tbody>\n",
       "</table>\n",
       "</div>"
      ],
      "text/plain": [
       "           Model class Recall Precision f1-score roc_auc\n",
       "0            SVM   one   0.88      1.00     0.93    0.94\n",
       "1            SVM  zero   1.00      0.98     0.99    0.94\n",
       "2  Decision Tree   one   0.88      0.93     0.90    0.93\n",
       "3  Decision Tree  zero   0.99      0.98     0.99    0.93"
      ]
     },
     "execution_count": 31,
     "metadata": {},
     "output_type": "execute_result"
    }
   ],
   "source": [
    "comparision_dic = {\n",
    "    'Model':['SVM', 'SVM', 'Decision Tree','Decision Tree'],\n",
    "    'class': ['one', 'zero', 'one', 'zero'],\n",
    "    'Recall': ['0.88', '1.00','0.88', '0.99'],\n",
    "    'Precision': ['1.00', '0.98' ,'0.93', '0.98'],\n",
    "    'f1-score': ['0.93', '0.99', '0.90', '0.99'],\n",
    "    'roc_auc': ['0.94', '0.94', '0.93', '0.93'],\n",
    "}\n",
    "\n",
    "comparision_df = pd.DataFrame(comparision_dic)\n",
    "comparision_df"
   ]
  }
 ],
 "metadata": {
  "kernelspec": {
   "display_name": "Python 3 (ipykernel)",
   "language": "python",
   "name": "python3"
  },
  "language_info": {
   "codemirror_mode": {
    "name": "ipython",
    "version": 3
   },
   "file_extension": ".py",
   "mimetype": "text/x-python",
   "name": "python",
   "nbconvert_exporter": "python",
   "pygments_lexer": "ipython3",
   "version": "3.9.7"
  }
 },
 "nbformat": 4,
 "nbformat_minor": 1
}
