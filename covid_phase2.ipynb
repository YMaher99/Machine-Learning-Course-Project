{
 "cells": [
  {
   "cell_type": "code",
   "metadata": {
    "collapsed": true,
    "pycharm": {
     "name": "#%%\n"
    }
   },
   "source": [
    "import pandas as pd\n",
    "import numpy as np\n",
    "import matplotlib.pyplot as plt\n",
    "import seaborn as sns\n",
    "from sklearn.model_selection import train_test_split, GridSearchCV, RepeatedStratifiedKFold, cross_validate\n",
    "from sklearn.metrics import  recall_score,roc_auc_score, roc_curve\n",
    "from sklearn.ensemble import BaggingClassifier\n",
    "from sklearn.metrics import classification_report\n",
    "from sklearn.preprocessing import StandardScaler, OneHotEncoder\n",
    "from sklearn.pipeline import Pipeline\n",
    "from sklearn.svm import SVC\n",
    "from imblearn.over_sampling import RandomOverSampler\n",
    "import warnings\n",
    "import itertools\n",
    "warnings.filterwarnings('ignore')\n",
    "%matplotlib inline"
   ],
   "execution_count": 72,
   "outputs": []
  },
  {
   "cell_type": "code",
   "execution_count": 36,
   "outputs": [
    {
     "data": {
      "text/plain": "Index(['location', 'country', 'gender', 'age', 'vis_wuhan', 'from_wuhan',\n       'symptom1', 'symptom2', 'symptom3', 'symptom4', 'symptom5', 'symptom6',\n       'diff_sym_hos', 'result'],\n      dtype='object')"
     },
     "execution_count": 36,
     "metadata": {},
     "output_type": "execute_result"
    }
   ],
   "source": [
    "df = pd.read_csv('data.csv')"
   ],
   "metadata": {
    "collapsed": false,
    "pycharm": {
     "name": "#%%\n"
    }
   }
  },
  {
   "cell_type": "markdown",
   "source": [
    "# Cleaning"
   ],
   "metadata": {
    "collapsed": false,
    "pycharm": {
     "name": "#%% md\n"
    }
   }
  },
  {
   "cell_type": "code",
   "source": [
    "#Negative hours changed to positive\n",
    "for i in range(len(df)):\n",
    "    df.iloc[i, 12] = df.iloc[i, 12] * -1 if df.iloc[i, 12] < 0 else df.iloc[i, 12]\n",
    "\n",
    "#Gender value 2 changed to the most common gender\n",
    "df['gender'] = df['gender'].mask(df['gender'] == 2, 1)"
   ],
   "metadata": {
    "collapsed": false,
    "pycharm": {
     "name": "#%%\n"
    }
   },
   "execution_count": 37,
   "outputs": []
  },
  {
   "cell_type": "markdown",
   "source": [
    "# Helper Methods"
   ],
   "metadata": {
    "collapsed": false,
    "pycharm": {
     "name": "#%% md\n"
    }
   }
  },
  {
   "cell_type": "code",
   "execution_count": 38,
   "outputs": [],
   "source": [
    "# Splits the given dataframe into 70% training set, 15% validation set, 15% testing set\n",
    "def split(df):\n",
    "    x = df.drop('result', axis=1)\n",
    "    y = df['result']\n",
    "    X_train, X_test, y_train, y_test = train_test_split(x, y, test_size=0.3,shuffle=True, random_state=42, stratify=y)\n",
    "    X_validate, X_test, y_validate, y_test = train_test_split(X_test, y_test, test_size=0.5,shuffle=True, random_state=42, stratify=y_test)\n",
    "    return X_train, X_validate, X_test, y_train, y_validate, y_test"
   ],
   "metadata": {
    "collapsed": false,
    "pycharm": {
     "name": "#%%\n"
    }
   }
  },
  {
   "cell_type": "code",
   "execution_count": 39,
   "outputs": [],
   "source": [
    "# one hot encoding\n",
    "def encode(df, columns):\n",
    "    df_encoded = df.copy()\n",
    "    for col in columns:\n",
    "        encoding = pd.get_dummies(df[col], prefix=col)\n",
    "        df_encoded = df_encoded.join(encoding)\n",
    "        df_encoded.drop(col, axis=1, inplace=True)\n",
    "    return df_encoded\n"
   ],
   "metadata": {
    "collapsed": false,
    "pycharm": {
     "name": "#%%\n"
    }
   }
  },
  {
   "cell_type": "code",
   "source": [
    "def svm_validate(X_train, y_train, X_validate, y_validate):\n",
    "    dic = {'clf':[], 'recall':[]}\n",
    "    c_values = [0.1, 1, 10, 100, 1000]\n",
    "    gamma_values = [1, 0.1, 0.01, 0.001, 0.0001]\n",
    "    degrees = np.arange(1, 11, 1)\n",
    "\n",
    "    parameters = list(itertools.product(c_values, gamma_values, degrees))\n",
    "    for c, gamma, degree in parameters:\n",
    "        rbf_kernel_svm_clf = Pipeline([\n",
    "            (\"scaler\", StandardScaler()),\n",
    "            (\"svm_clf\", SVC(C=c, gamma=gamma, degree=degree))\n",
    "        ])\n",
    "        rbf_kernel_svm_clf.fit(X_train, y_train)\n",
    "        y_pred = rbf_kernel_svm_clf.predict(X_validate)\n",
    "        recall = recall_score(y_validate, y_pred)\n",
    "        dic['clf'].append(rbf_kernel_svm_clf)\n",
    "        dic['recall'].append(recall)\n",
    "    df_scores = pd.DataFrame(dic)\n",
    "    return df_scores.iloc[df_scores['recall'].idxmax(), 0]"
   ],
   "metadata": {
    "collapsed": false,
    "pycharm": {
     "name": "#%%\n"
    }
   },
   "execution_count": null,
   "outputs": []
  },
  {
   "cell_type": "markdown",
   "source": [
    "# Without Encoding"
   ],
   "metadata": {
    "collapsed": false,
    "pycharm": {
     "name": "#%% md\n"
    }
   }
  },
  {
   "cell_type": "code",
   "source": [
    "X_train, X_validate, X_test, y_train, y_validate, y_test = split(df)\n",
    "best_svm = svm_validate(X_train, y_train, X_validate, y_validate)\n",
    "print(best_svm)\n",
    "print(classification_report(y_test, best_svm.predict(X_test)))"
   ],
   "metadata": {
    "collapsed": false,
    "pycharm": {
     "name": "#%%\n"
    }
   },
   "execution_count": 79,
   "outputs": [
    {
     "name": "stdout",
     "output_type": "stream",
     "text": [
      "Pipeline(steps=[('scaler', StandardScaler()),\n",
      "                ('svm_clf', SVC(C=10, degree=1, gamma=0.1))])\n",
      "              precision    recall  f1-score   support\n",
      "\n",
      "           0       0.97      0.97      0.97       114\n",
      "           1       0.81      0.81      0.81        16\n",
      "\n",
      "    accuracy                           0.95       130\n",
      "   macro avg       0.89      0.89      0.89       130\n",
      "weighted avg       0.95      0.95      0.95       130\n",
      "\n"
     ]
    }
   ]
  },
  {
   "cell_type": "markdown",
   "source": [
    "# Encoding"
   ],
   "metadata": {
    "collapsed": false,
    "pycharm": {
     "name": "#%% md\n"
    }
   }
  },
  {
   "cell_type": "code",
   "execution_count": 80,
   "outputs": [
    {
     "name": "stdout",
     "output_type": "stream",
     "text": [
      "Pipeline(steps=[('scaler', StandardScaler()),\n",
      "                ('svm_clf', SVC(C=100, degree=1, gamma=0.001))])\n",
      "              precision    recall  f1-score   support\n",
      "\n",
      "           0       0.97      1.00      0.98       114\n",
      "           1       1.00      0.75      0.86        16\n",
      "\n",
      "    accuracy                           0.97       130\n",
      "   macro avg       0.98      0.88      0.92       130\n",
      "weighted avg       0.97      0.97      0.97       130\n",
      "\n"
     ]
    }
   ],
   "source": [
    "cols = ['location', 'country', 'symptom1', 'symptom2', 'symptom3', 'symptom4', 'symptom5', 'symptom6']\n",
    "df_encoded = encode(df, cols)\n",
    "X_train, X_validate, X_test, y_train, y_validate, y_test = split(df_encoded)\n",
    "best_svm = svm_validate(X_train, y_train, X_validate, y_validate)\n",
    "print(best_svm)\n",
    "print(classification_report(y_test, best_svm.predict(X_test)))"
   ],
   "metadata": {
    "collapsed": false,
    "pycharm": {
     "name": "#%%\n"
    }
   }
  },
  {
   "cell_type": "markdown",
   "source": [
    "# Feature selection"
   ],
   "metadata": {
    "collapsed": false,
    "pycharm": {
     "name": "#%% md\n"
    }
   }
  },
  {
   "cell_type": "code",
   "execution_count": 81,
   "outputs": [
    {
     "name": "stdout",
     "output_type": "stream",
     "text": [
      "Pipeline(steps=[('scaler', StandardScaler()),\n",
      "                ('svm_clf', SVC(C=100, degree=1, gamma=0.001))])\n",
      "              precision    recall  f1-score   support\n",
      "\n",
      "           0       0.98      1.00      0.99       114\n",
      "           1       1.00      0.88      0.93        16\n",
      "\n",
      "    accuracy                           0.98       130\n",
      "   macro avg       0.99      0.94      0.96       130\n",
      "weighted avg       0.98      0.98      0.98       130\n",
      "\n"
     ]
    }
   ],
   "source": [
    "dropped_cols = ['symptom6', 'symptom5', 'symptom4','symptom2']\n",
    "encoded_cols = ['country','location', 'symptom1', 'symptom3']\n",
    "df_encoded = encode(df.drop(dropped_cols, axis=1), encoded_cols)\n",
    "X_train, X_validate, X_test, y_train, y_validate, y_test = split(df_encoded)\n",
    "best_svm = svm_validate(X_train, y_train, X_validate, y_validate)\n",
    "print(best_svm)\n",
    "print(classification_report(y_test, best_svm.predict(X_test)))"
   ],
   "metadata": {
    "collapsed": false,
    "pycharm": {
     "name": "#%%\n"
    }
   }
  },
  {
   "cell_type": "markdown",
   "source": [
    "# Bagging with validation"
   ],
   "metadata": {
    "collapsed": false,
    "pycharm": {
     "name": "#%% md\n"
    }
   }
  },
  {
   "cell_type": "code",
   "execution_count": 82,
   "outputs": [],
   "source": [
    "dic = {'clf':[], 'recall':[]}\n",
    "c_values = [0.1, 1, 10, 100, 1000]\n",
    "gamma_values = [1, 0.1, 0.01, 0.001, 0.0001]\n",
    "degrees = np.arange(1, 11, 1)\n",
    "\n",
    "parameters = list(itertools.product(c_values, gamma_values, degrees))\n",
    "for c, gamma, degree in parameters:\n",
    "    rbf_kernel_svm_clf = Pipeline([\n",
    "        (\"scaler\", StandardScaler()),\n",
    "        (\"svm_clf\", SVC(C=c, gamma=gamma, degree=degree))\n",
    "    ])\n",
    "    bagging_clf = BaggingClassifier(base_estimator=rbf_kernel_svm_clf, n_estimators=10, random_state=42)\n",
    "    bagging_clf.fit(X_train, y_train)\n",
    "    y_pred = bagging_clf.predict(X_validate)\n",
    "    recall = recall_score(y_validate, y_pred)\n",
    "    dic['clf'].append(bagging_clf)\n",
    "    dic['recall'].append(recall)\n",
    "df_scores = pd.DataFrame(dic)"
   ],
   "metadata": {
    "collapsed": false,
    "pycharm": {
     "name": "#%%\n"
    }
   }
  },
  {
   "cell_type": "code",
   "execution_count": 83,
   "outputs": [
    {
     "name": "stdout",
     "output_type": "stream",
     "text": [
      "BaggingClassifier(base_estimator=Pipeline(steps=[('scaler', StandardScaler()),\n",
      "                                                 ('svm_clf',\n",
      "                                                  SVC(C=10, degree=1,\n",
      "                                                      gamma=0.01))]),\n",
      "                  random_state=42)\n",
      "              precision    recall  f1-score   support\n",
      "\n",
      "           0       0.93      1.00      0.97       114\n",
      "           1       1.00      0.50      0.67        16\n",
      "\n",
      "    accuracy                           0.94       130\n",
      "   macro avg       0.97      0.75      0.82       130\n",
      "weighted avg       0.94      0.94      0.93       130\n",
      "\n"
     ]
    }
   ],
   "source": [
    "bagging_clf = df_scores.iloc[df_scores['recall'].idxmax(), 0]\n",
    "print(bagging_clf)\n",
    "print(classification_report(y_test, bagging_clf.predict(X_test)))"
   ],
   "metadata": {
    "collapsed": false,
    "pycharm": {
     "name": "#%%\n"
    }
   }
  },
  {
   "cell_type": "markdown",
   "source": [
    "# Over sampling"
   ],
   "metadata": {
    "collapsed": false,
    "pycharm": {
     "name": "#%% md\n"
    }
   }
  },
  {
   "cell_type": "code",
   "execution_count": 84,
   "outputs": [
    {
     "name": "stdout",
     "output_type": "stream",
     "text": [
      "Pipeline(steps=[('scaler', StandardScaler()),\n",
      "                ('svm_clf', SVC(C=0.1, degree=1, gamma=0.1))])\n",
      "              precision    recall  f1-score   support\n",
      "\n",
      "           0       0.99      0.86      0.92       114\n",
      "           1       0.48      0.94      0.64        16\n",
      "\n",
      "    accuracy                           0.87       130\n",
      "   macro avg       0.74      0.90      0.78       130\n",
      "weighted avg       0.93      0.87      0.89       130\n",
      "\n"
     ]
    }
   ],
   "source": [
    "dropped_cols = ['symptom6', 'symptom5', 'symptom4', 'symptom3', 'symptom2']\n",
    "# encoded_cols = ['country','location', 'symptom1', 'symptom3', 'symptom6', 'symptom5', 'symptom4','symptom2']\n",
    "encoded_cols = []\n",
    "df_encoded = encode(df.drop(dropped_cols, axis=1), encoded_cols)\n",
    "ros = RandomOverSampler(random_state=42)\n",
    "X_train, X_validate, X_test, y_train, y_validate, y_test = split(df_encoded)\n",
    "X_train, y_train= ros.fit_resample(X=X_train, y=y_train)\n",
    "best_svm = svm_validate(X_train, y_train, X_validate, y_validate)\n",
    "print(best_svm)\n",
    "print(classification_report(y_test, best_svm.predict(X_test)))\n"
   ],
   "metadata": {
    "collapsed": false,
    "pycharm": {
     "name": "#%%\n"
    }
   }
  }
 ],
 "metadata": {
  "kernelspec": {
   "display_name": "Python 3",
   "language": "python",
   "name": "python3"
  },
  "language_info": {
   "codemirror_mode": {
    "name": "ipython",
    "version": 2
   },
   "file_extension": ".py",
   "mimetype": "text/x-python",
   "name": "python",
   "nbconvert_exporter": "python",
   "pygments_lexer": "ipython2",
   "version": "2.7.6"
  }
 },
 "nbformat": 4,
 "nbformat_minor": 0
}